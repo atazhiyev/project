{
 "cells": [
  {
   "cell_type": "markdown",
   "metadata": {},
   "source": [
    "### Оформить таблицу, которая станет основой рекомендательной системы."
   ]
  },
  {
   "cell_type": "markdown",
   "metadata": {},
   "source": [
    "Импортируем библиотеки"
   ]
  },
  {
   "cell_type": "code",
   "execution_count": 1,
   "metadata": {},
   "outputs": [],
   "source": [
    "import pandas as pd\n",
    "import psycopg2\n",
    "import psycopg2.extras\n",
    "from collections import Counter\n",
    "import numpy as np"
   ]
  },
  {
   "cell_type": "markdown",
   "metadata": {},
   "source": [
    "Подключаемся к Metabaase и получаем данные SQL таблиц"
   ]
  },
  {
   "cell_type": "code",
   "execution_count": 2,
   "metadata": {},
   "outputs": [],
   "source": [
    "def getData():\n",
    "    # Запрос SQL\n",
    "    query = '''with courses_per_user as(\n",
    "                    select\n",
    "                        c.user_id,\n",
    "                        count(distinct(ci.resource_id))\n",
    "                        from final.carts c\n",
    "                        join final.cart_items ci on c.id = ci.cart_id\n",
    "                        where c.state = 'successful' and ci.resource_type = 'Course'\n",
    "                        group by 1 \n",
    "                        having count(distinct(ci.resource_id)) > 1\n",
    "                )\n",
    "                select\n",
    "                    distinct(cpu.user_id),\n",
    "                    ci.resource_id\n",
    "                    from courses_per_user cpu\n",
    "                    join final.carts c on cpu.user_id = c.user_id\n",
    "                    join final.cart_items ci on c.id = ci.cart_id\n",
    "                    where c.state = 'successful' and ci.resource_type = 'Course' '''.format()\n",
    "    # Данные соединения к Metabase\n",
    "    conn = psycopg2.connect(\n",
    "        dbname='skillfactory',\n",
    "        user='skillfactory',\n",
    "        host='84.201.134.129',\n",
    "        password='cCkxxLVrDE8EbvjueeMedPKt',\n",
    "        port=5432)\n",
    "    dict_cur = conn.cursor(cursor_factory=psycopg2.extras.DictCursor)\n",
    "    dict_cur.execute(query)\n",
    "    rows = dict_cur.fetchall()\n",
    "    data = []\n",
    "    for row in rows:\n",
    "        data.append(dict(row))\n",
    "    dict_cur.close()\n",
    "    conn.close()\n",
    "    return data\n",
    "# создаем датафрейм из полученной таблицы\n",
    "df = pd.DataFrame(getData())"
   ]
  },
  {
   "cell_type": "markdown",
   "metadata": {},
   "source": [
    "Отсортируем и сгруппирем таблицу по пользователям, а купленные пользователем курсы будут отражаться списком в отдельном столбце"
   ]
  },
  {
   "cell_type": "code",
   "execution_count": 3,
   "metadata": {},
   "outputs": [],
   "source": [
    "df = df.sort_values(['user_id', 'resource_id'])\n",
    "grouped_by_user = df.groupby('user_id')['resource_id'].apply(list).reset_index()"
   ]
  },
  {
   "cell_type": "markdown",
   "metadata": {},
   "source": [
    "Создадим список из всех возможных пар курсов"
   ]
  },
  {
   "cell_type": "code",
   "execution_count": 4,
   "metadata": {},
   "outputs": [],
   "source": [
    "courses_pairs = []\n",
    "# цикл по пользователям\n",
    "for i in range(grouped_by_user['resource_id'].shape[0]):\n",
    "    # цикл по курсам в списке\n",
    "    for a in range(len(grouped_by_user['resource_id'].iloc[i])):\n",
    "        # второй цикл по курсам в списке\n",
    "        for b in range(a+1, len(grouped_by_user['resource_id'].iloc[i])):\n",
    "            pair_tuple = grouped_by_user['resource_id'].iloc[i][a], grouped_by_user['resource_id'].iloc[i][b]\n",
    "            courses_pairs.append(pair_tuple)\n"
   ]
  },
  {
   "cell_type": "markdown",
   "metadata": {},
   "source": [
    "С помощью Counter подсчитаем для каждой пары их количество в списке. То есть сколько раз эти курсы покупались вместе и преобразуем Counter в словарь"
   ]
  },
  {
   "cell_type": "code",
   "execution_count": 5,
   "metadata": {},
   "outputs": [],
   "source": [
    "pairs_counter = Counter(courses_pairs).most_common()\n",
    "pairs_dict = dict(pairs_counter)"
   ]
  },
  {
   "cell_type": "markdown",
   "metadata": {},
   "source": [
    "##### Для подсчета количества покупок одного курса с другим создадим рабочую таблицу - матрица, где и в строках и столбцах курсы, а на пересечении столбцов и строк количество покупок вместе."
   ]
  },
  {
   "cell_type": "markdown",
   "metadata": {},
   "source": [
    "Для этого нам нужен будет словарь, ключами будут курсы, а значениями: словарь из курсов с количеством покупок вместе с курсом-ключом верхнего словаря"
   ]
  },
  {
   "cell_type": "markdown",
   "metadata": {},
   "source": [
    "Для итерации создадим список уникальных курсов и уникальных пар курсов"
   ]
  },
  {
   "cell_type": "code",
   "execution_count": 6,
   "metadata": {},
   "outputs": [],
   "source": [
    "unique_courses = list(df['resource_id'].unique())\n",
    "unique_courses.sort()\n",
    "pairs_list = list(pairs_dict.keys())"
   ]
  },
  {
   "cell_type": "markdown",
   "metadata": {},
   "source": [
    "Создаем рабочую таблицу"
   ]
  },
  {
   "cell_type": "code",
   "execution_count": 7,
   "metadata": {},
   "outputs": [],
   "source": [
    "courses_dict = dict()\n",
    "for i in range(len(unique_courses)):\n",
    "    # для каждого курса создаем словарь с его парами и количеством покупок\n",
    "    dict_course_times = dict()\n",
    "    for j in range(len(pairs_list)):\n",
    "        # если курс из верхнего словаря присутствует в паре добавляем в словарь пару и количество\n",
    "        if unique_courses[i] == pairs_list[j][0]:\n",
    "            dict_course_times[pairs_list[j][1]] = pairs_dict[pairs_list[j]]\n",
    "        elif unique_courses[i] == pairs_list[j][1]:\n",
    "            dict_course_times[pairs_list[j][0]] = pairs_dict[pairs_list[j]]\n",
    "        else:\n",
    "            pass   \n",
    "    courses_dict[unique_courses[i]] = dict_course_times\n",
    "courses_df = pd.DataFrame(courses_dict)\n",
    "courses_df = courses_df.sort_index().fillna(0)"
   ]
  },
  {
   "cell_type": "markdown",
   "metadata": {},
   "source": [
    "Таблица выглядит вот так:"
   ]
  },
  {
   "cell_type": "code",
   "execution_count": 8,
   "metadata": {},
   "outputs": [
    {
     "data": {
      "text/html": [
       "<div>\n",
       "<style scoped>\n",
       "    .dataframe tbody tr th:only-of-type {\n",
       "        vertical-align: middle;\n",
       "    }\n",
       "\n",
       "    .dataframe tbody tr th {\n",
       "        vertical-align: top;\n",
       "    }\n",
       "\n",
       "    .dataframe thead th {\n",
       "        text-align: right;\n",
       "    }\n",
       "</style>\n",
       "<table border=\"1\" class=\"dataframe\">\n",
       "  <thead>\n",
       "    <tr style=\"text-align: right;\">\n",
       "      <th></th>\n",
       "      <th>356</th>\n",
       "      <th>357</th>\n",
       "      <th>358</th>\n",
       "      <th>359</th>\n",
       "      <th>360</th>\n",
       "      <th>361</th>\n",
       "      <th>362</th>\n",
       "      <th>363</th>\n",
       "      <th>364</th>\n",
       "      <th>365</th>\n",
       "      <th>...</th>\n",
       "      <th>1182</th>\n",
       "      <th>1184</th>\n",
       "      <th>1185</th>\n",
       "      <th>1186</th>\n",
       "      <th>1187</th>\n",
       "      <th>1188</th>\n",
       "      <th>1198</th>\n",
       "      <th>1199</th>\n",
       "      <th>1200</th>\n",
       "      <th>1201</th>\n",
       "    </tr>\n",
       "  </thead>\n",
       "  <tbody>\n",
       "    <tr>\n",
       "      <th>356</th>\n",
       "      <td>0.0</td>\n",
       "      <td>100.0</td>\n",
       "      <td>0.0</td>\n",
       "      <td>0.0</td>\n",
       "      <td>1.0</td>\n",
       "      <td>17.0</td>\n",
       "      <td>0.0</td>\n",
       "      <td>0.0</td>\n",
       "      <td>0.0</td>\n",
       "      <td>0.0</td>\n",
       "      <td>...</td>\n",
       "      <td>0.0</td>\n",
       "      <td>0.0</td>\n",
       "      <td>0.0</td>\n",
       "      <td>4.0</td>\n",
       "      <td>1.0</td>\n",
       "      <td>0.0</td>\n",
       "      <td>2.0</td>\n",
       "      <td>0.0</td>\n",
       "      <td>0.0</td>\n",
       "      <td>0.0</td>\n",
       "    </tr>\n",
       "    <tr>\n",
       "      <th>357</th>\n",
       "      <td>100.0</td>\n",
       "      <td>0.0</td>\n",
       "      <td>0.0</td>\n",
       "      <td>0.0</td>\n",
       "      <td>4.0</td>\n",
       "      <td>18.0</td>\n",
       "      <td>1.0</td>\n",
       "      <td>0.0</td>\n",
       "      <td>0.0</td>\n",
       "      <td>0.0</td>\n",
       "      <td>...</td>\n",
       "      <td>0.0</td>\n",
       "      <td>0.0</td>\n",
       "      <td>0.0</td>\n",
       "      <td>8.0</td>\n",
       "      <td>2.0</td>\n",
       "      <td>0.0</td>\n",
       "      <td>1.0</td>\n",
       "      <td>0.0</td>\n",
       "      <td>0.0</td>\n",
       "      <td>0.0</td>\n",
       "    </tr>\n",
       "    <tr>\n",
       "      <th>358</th>\n",
       "      <td>0.0</td>\n",
       "      <td>0.0</td>\n",
       "      <td>0.0</td>\n",
       "      <td>15.0</td>\n",
       "      <td>0.0</td>\n",
       "      <td>1.0</td>\n",
       "      <td>0.0</td>\n",
       "      <td>0.0</td>\n",
       "      <td>0.0</td>\n",
       "      <td>0.0</td>\n",
       "      <td>...</td>\n",
       "      <td>0.0</td>\n",
       "      <td>3.0</td>\n",
       "      <td>0.0</td>\n",
       "      <td>0.0</td>\n",
       "      <td>0.0</td>\n",
       "      <td>0.0</td>\n",
       "      <td>0.0</td>\n",
       "      <td>0.0</td>\n",
       "      <td>0.0</td>\n",
       "      <td>0.0</td>\n",
       "    </tr>\n",
       "    <tr>\n",
       "      <th>359</th>\n",
       "      <td>0.0</td>\n",
       "      <td>0.0</td>\n",
       "      <td>15.0</td>\n",
       "      <td>0.0</td>\n",
       "      <td>0.0</td>\n",
       "      <td>0.0</td>\n",
       "      <td>0.0</td>\n",
       "      <td>1.0</td>\n",
       "      <td>0.0</td>\n",
       "      <td>0.0</td>\n",
       "      <td>...</td>\n",
       "      <td>0.0</td>\n",
       "      <td>3.0</td>\n",
       "      <td>0.0</td>\n",
       "      <td>0.0</td>\n",
       "      <td>0.0</td>\n",
       "      <td>0.0</td>\n",
       "      <td>0.0</td>\n",
       "      <td>1.0</td>\n",
       "      <td>0.0</td>\n",
       "      <td>0.0</td>\n",
       "    </tr>\n",
       "    <tr>\n",
       "      <th>360</th>\n",
       "      <td>1.0</td>\n",
       "      <td>4.0</td>\n",
       "      <td>0.0</td>\n",
       "      <td>0.0</td>\n",
       "      <td>0.0</td>\n",
       "      <td>1.0</td>\n",
       "      <td>0.0</td>\n",
       "      <td>0.0</td>\n",
       "      <td>0.0</td>\n",
       "      <td>1.0</td>\n",
       "      <td>...</td>\n",
       "      <td>0.0</td>\n",
       "      <td>0.0</td>\n",
       "      <td>0.0</td>\n",
       "      <td>1.0</td>\n",
       "      <td>5.0</td>\n",
       "      <td>0.0</td>\n",
       "      <td>0.0</td>\n",
       "      <td>0.0</td>\n",
       "      <td>0.0</td>\n",
       "      <td>0.0</td>\n",
       "    </tr>\n",
       "    <tr>\n",
       "      <th>361</th>\n",
       "      <td>17.0</td>\n",
       "      <td>18.0</td>\n",
       "      <td>1.0</td>\n",
       "      <td>0.0</td>\n",
       "      <td>1.0</td>\n",
       "      <td>0.0</td>\n",
       "      <td>0.0</td>\n",
       "      <td>0.0</td>\n",
       "      <td>0.0</td>\n",
       "      <td>1.0</td>\n",
       "      <td>...</td>\n",
       "      <td>0.0</td>\n",
       "      <td>0.0</td>\n",
       "      <td>0.0</td>\n",
       "      <td>2.0</td>\n",
       "      <td>4.0</td>\n",
       "      <td>0.0</td>\n",
       "      <td>0.0</td>\n",
       "      <td>0.0</td>\n",
       "      <td>0.0</td>\n",
       "      <td>0.0</td>\n",
       "    </tr>\n",
       "    <tr>\n",
       "      <th>362</th>\n",
       "      <td>0.0</td>\n",
       "      <td>1.0</td>\n",
       "      <td>0.0</td>\n",
       "      <td>0.0</td>\n",
       "      <td>0.0</td>\n",
       "      <td>0.0</td>\n",
       "      <td>0.0</td>\n",
       "      <td>18.0</td>\n",
       "      <td>0.0</td>\n",
       "      <td>0.0</td>\n",
       "      <td>...</td>\n",
       "      <td>0.0</td>\n",
       "      <td>0.0</td>\n",
       "      <td>0.0</td>\n",
       "      <td>0.0</td>\n",
       "      <td>0.0</td>\n",
       "      <td>0.0</td>\n",
       "      <td>0.0</td>\n",
       "      <td>0.0</td>\n",
       "      <td>0.0</td>\n",
       "      <td>0.0</td>\n",
       "    </tr>\n",
       "    <tr>\n",
       "      <th>363</th>\n",
       "      <td>0.0</td>\n",
       "      <td>0.0</td>\n",
       "      <td>0.0</td>\n",
       "      <td>1.0</td>\n",
       "      <td>0.0</td>\n",
       "      <td>0.0</td>\n",
       "      <td>18.0</td>\n",
       "      <td>0.0</td>\n",
       "      <td>0.0</td>\n",
       "      <td>0.0</td>\n",
       "      <td>...</td>\n",
       "      <td>0.0</td>\n",
       "      <td>1.0</td>\n",
       "      <td>1.0</td>\n",
       "      <td>0.0</td>\n",
       "      <td>0.0</td>\n",
       "      <td>0.0</td>\n",
       "      <td>0.0</td>\n",
       "      <td>0.0</td>\n",
       "      <td>0.0</td>\n",
       "      <td>0.0</td>\n",
       "    </tr>\n",
       "    <tr>\n",
       "      <th>364</th>\n",
       "      <td>0.0</td>\n",
       "      <td>0.0</td>\n",
       "      <td>0.0</td>\n",
       "      <td>0.0</td>\n",
       "      <td>0.0</td>\n",
       "      <td>0.0</td>\n",
       "      <td>0.0</td>\n",
       "      <td>0.0</td>\n",
       "      <td>0.0</td>\n",
       "      <td>1.0</td>\n",
       "      <td>...</td>\n",
       "      <td>0.0</td>\n",
       "      <td>0.0</td>\n",
       "      <td>2.0</td>\n",
       "      <td>0.0</td>\n",
       "      <td>0.0</td>\n",
       "      <td>0.0</td>\n",
       "      <td>0.0</td>\n",
       "      <td>0.0</td>\n",
       "      <td>0.0</td>\n",
       "      <td>0.0</td>\n",
       "    </tr>\n",
       "    <tr>\n",
       "      <th>365</th>\n",
       "      <td>0.0</td>\n",
       "      <td>0.0</td>\n",
       "      <td>0.0</td>\n",
       "      <td>0.0</td>\n",
       "      <td>1.0</td>\n",
       "      <td>1.0</td>\n",
       "      <td>0.0</td>\n",
       "      <td>0.0</td>\n",
       "      <td>1.0</td>\n",
       "      <td>0.0</td>\n",
       "      <td>...</td>\n",
       "      <td>0.0</td>\n",
       "      <td>0.0</td>\n",
       "      <td>0.0</td>\n",
       "      <td>0.0</td>\n",
       "      <td>0.0</td>\n",
       "      <td>1.0</td>\n",
       "      <td>0.0</td>\n",
       "      <td>0.0</td>\n",
       "      <td>0.0</td>\n",
       "      <td>0.0</td>\n",
       "    </tr>\n",
       "  </tbody>\n",
       "</table>\n",
       "<p>10 rows × 126 columns</p>\n",
       "</div>"
      ],
      "text/plain": [
       "      356    357   358   359   360   361   362   363   364   365   ...  1182  \\\n",
       "356    0.0  100.0   0.0   0.0   1.0  17.0   0.0   0.0   0.0   0.0  ...   0.0   \n",
       "357  100.0    0.0   0.0   0.0   4.0  18.0   1.0   0.0   0.0   0.0  ...   0.0   \n",
       "358    0.0    0.0   0.0  15.0   0.0   1.0   0.0   0.0   0.0   0.0  ...   0.0   \n",
       "359    0.0    0.0  15.0   0.0   0.0   0.0   0.0   1.0   0.0   0.0  ...   0.0   \n",
       "360    1.0    4.0   0.0   0.0   0.0   1.0   0.0   0.0   0.0   1.0  ...   0.0   \n",
       "361   17.0   18.0   1.0   0.0   1.0   0.0   0.0   0.0   0.0   1.0  ...   0.0   \n",
       "362    0.0    1.0   0.0   0.0   0.0   0.0   0.0  18.0   0.0   0.0  ...   0.0   \n",
       "363    0.0    0.0   0.0   1.0   0.0   0.0  18.0   0.0   0.0   0.0  ...   0.0   \n",
       "364    0.0    0.0   0.0   0.0   0.0   0.0   0.0   0.0   0.0   1.0  ...   0.0   \n",
       "365    0.0    0.0   0.0   0.0   1.0   1.0   0.0   0.0   1.0   0.0  ...   0.0   \n",
       "\n",
       "     1184  1185  1186  1187  1188  1198  1199  1200  1201  \n",
       "356   0.0   0.0   4.0   1.0   0.0   2.0   0.0   0.0   0.0  \n",
       "357   0.0   0.0   8.0   2.0   0.0   1.0   0.0   0.0   0.0  \n",
       "358   3.0   0.0   0.0   0.0   0.0   0.0   0.0   0.0   0.0  \n",
       "359   3.0   0.0   0.0   0.0   0.0   0.0   1.0   0.0   0.0  \n",
       "360   0.0   0.0   1.0   5.0   0.0   0.0   0.0   0.0   0.0  \n",
       "361   0.0   0.0   2.0   4.0   0.0   0.0   0.0   0.0   0.0  \n",
       "362   0.0   0.0   0.0   0.0   0.0   0.0   0.0   0.0   0.0  \n",
       "363   1.0   1.0   0.0   0.0   0.0   0.0   0.0   0.0   0.0  \n",
       "364   0.0   2.0   0.0   0.0   0.0   0.0   0.0   0.0   0.0  \n",
       "365   0.0   0.0   0.0   0.0   1.0   0.0   0.0   0.0   0.0  \n",
       "\n",
       "[10 rows x 126 columns]"
      ]
     },
     "execution_count": 8,
     "metadata": {},
     "output_type": "execute_result"
    }
   ],
   "source": [
    "courses_df.head(10)"
   ]
  },
  {
   "cell_type": "markdown",
   "metadata": {},
   "source": [
    "Создаем копию датафрейма и удаляем лишние столбцы"
   ]
  },
  {
   "cell_type": "code",
   "execution_count": 25,
   "metadata": {},
   "outputs": [],
   "source": [
    "recommendations_df = courses_df.copy()\n",
    "recommendations_df['most_recommended_course'] = 0\n",
    "recommendations_df['bought_together_times'] = 0\n",
    "recommendations_df['second_most_recommended_course'] = 0\n",
    "recommendations_df['bought_together_times_second'] = 0\n",
    "recommendations_df = recommendations_df[['most_recommended_course', 'bought_together_times', 'second_most_recommended_course', 'bought_together_times_second']]"
   ]
  },
  {
   "cell_type": "markdown",
   "metadata": {},
   "source": [
    "Для каждой строки из рабочей таблицы создаем серию из двух наиболее продаваемых в паре курсов"
   ]
  },
  {
   "cell_type": "code",
   "execution_count": 26,
   "metadata": {},
   "outputs": [],
   "source": [
    "for i in range(len(unique_courses)):\n",
    "    two_most_paired = pd.Series(dtype=np.int64)\n",
    "    two_most_paired = courses_df.iloc[i].sort_values(ascending=False).head(2)\n",
    "    recommendations_df['most_recommended_course'].iloc[i] = two_most_paired.index[0]\n",
    "    recommendations_df['second_most_recommended_course'].iloc[i] = two_most_paired.index[1]\n",
    "    recommendations_df['bought_together_times'].iloc[i] = two_most_paired.iloc[0]\n",
    "    recommendations_df['bought_together_times_second'].iloc[i] = two_most_paired.iloc[1]"
   ]
  },
  {
   "cell_type": "markdown",
   "metadata": {},
   "source": [
    "Таблица с рекомендациями выглядит вот так"
   ]
  },
  {
   "cell_type": "code",
   "execution_count": 27,
   "metadata": {},
   "outputs": [
    {
     "data": {
      "text/html": [
       "<div>\n",
       "<style scoped>\n",
       "    .dataframe tbody tr th:only-of-type {\n",
       "        vertical-align: middle;\n",
       "    }\n",
       "\n",
       "    .dataframe tbody tr th {\n",
       "        vertical-align: top;\n",
       "    }\n",
       "\n",
       "    .dataframe thead th {\n",
       "        text-align: right;\n",
       "    }\n",
       "</style>\n",
       "<table border=\"1\" class=\"dataframe\">\n",
       "  <thead>\n",
       "    <tr style=\"text-align: right;\">\n",
       "      <th></th>\n",
       "      <th>most_recommended_course</th>\n",
       "      <th>bought_together_times</th>\n",
       "      <th>second_most_recommended_course</th>\n",
       "      <th>bought_together_times_second</th>\n",
       "    </tr>\n",
       "  </thead>\n",
       "  <tbody>\n",
       "    <tr>\n",
       "      <th>356</th>\n",
       "      <td>571</td>\n",
       "      <td>103</td>\n",
       "      <td>357</td>\n",
       "      <td>100</td>\n",
       "    </tr>\n",
       "    <tr>\n",
       "      <th>357</th>\n",
       "      <td>571</td>\n",
       "      <td>112</td>\n",
       "      <td>356</td>\n",
       "      <td>100</td>\n",
       "    </tr>\n",
       "    <tr>\n",
       "      <th>358</th>\n",
       "      <td>570</td>\n",
       "      <td>25</td>\n",
       "      <td>752</td>\n",
       "      <td>19</td>\n",
       "    </tr>\n",
       "    <tr>\n",
       "      <th>359</th>\n",
       "      <td>570</td>\n",
       "      <td>16</td>\n",
       "      <td>358</td>\n",
       "      <td>15</td>\n",
       "    </tr>\n",
       "    <tr>\n",
       "      <th>360</th>\n",
       "      <td>745</td>\n",
       "      <td>17</td>\n",
       "      <td>516</td>\n",
       "      <td>12</td>\n",
       "    </tr>\n",
       "    <tr>\n",
       "      <th>...</th>\n",
       "      <td>...</td>\n",
       "      <td>...</td>\n",
       "      <td>...</td>\n",
       "      <td>...</td>\n",
       "    </tr>\n",
       "    <tr>\n",
       "      <th>1188</th>\n",
       "      <td>1141</td>\n",
       "      <td>15</td>\n",
       "      <td>513</td>\n",
       "      <td>11</td>\n",
       "    </tr>\n",
       "    <tr>\n",
       "      <th>1198</th>\n",
       "      <td>571</td>\n",
       "      <td>5</td>\n",
       "      <td>912</td>\n",
       "      <td>3</td>\n",
       "    </tr>\n",
       "    <tr>\n",
       "      <th>1199</th>\n",
       "      <td>523</td>\n",
       "      <td>2</td>\n",
       "      <td>1115</td>\n",
       "      <td>1</td>\n",
       "    </tr>\n",
       "    <tr>\n",
       "      <th>1200</th>\n",
       "      <td>794</td>\n",
       "      <td>1</td>\n",
       "      <td>1104</td>\n",
       "      <td>1</td>\n",
       "    </tr>\n",
       "    <tr>\n",
       "      <th>1201</th>\n",
       "      <td>1125</td>\n",
       "      <td>1</td>\n",
       "      <td>571</td>\n",
       "      <td>1</td>\n",
       "    </tr>\n",
       "  </tbody>\n",
       "</table>\n",
       "<p>126 rows × 4 columns</p>\n",
       "</div>"
      ],
      "text/plain": [
       "      most_recommended_course  bought_together_times  \\\n",
       "356                       571                    103   \n",
       "357                       571                    112   \n",
       "358                       570                     25   \n",
       "359                       570                     16   \n",
       "360                       745                     17   \n",
       "...                       ...                    ...   \n",
       "1188                     1141                     15   \n",
       "1198                      571                      5   \n",
       "1199                      523                      2   \n",
       "1200                      794                      1   \n",
       "1201                     1125                      1   \n",
       "\n",
       "      second_most_recommended_course  bought_together_times_second  \n",
       "356                              357                           100  \n",
       "357                              356                           100  \n",
       "358                              752                            19  \n",
       "359                              358                            15  \n",
       "360                              516                            12  \n",
       "...                              ...                           ...  \n",
       "1188                             513                            11  \n",
       "1198                             912                             3  \n",
       "1199                            1115                             1  \n",
       "1200                            1104                             1  \n",
       "1201                             571                             1  \n",
       "\n",
       "[126 rows x 4 columns]"
      ]
     },
     "execution_count": 27,
     "metadata": {},
     "output_type": "execute_result"
    }
   ],
   "source": [
    "recommendations_df"
   ]
  },
  {
   "cell_type": "markdown",
   "metadata": {},
   "source": [
    "Для определения минимальной границы, при которой будем считать докупленный курс случайностью, ознакомимся с описательными данными количества покупок в паре."
   ]
  },
  {
   "cell_type": "code",
   "execution_count": 28,
   "metadata": {},
   "outputs": [
    {
     "data": {
      "text/plain": [
       "count    126.000000\n",
       "mean      79.436508\n",
       "std      120.688458\n",
       "min        1.000000\n",
       "25%       16.250000\n",
       "50%       37.500000\n",
       "75%       97.250000\n",
       "max      797.000000\n",
       "Name: bought_together_times, dtype: float64"
      ]
     },
     "execution_count": 28,
     "metadata": {},
     "output_type": "execute_result"
    }
   ],
   "source": [
    "recommendations_df['bought_together_times'].describe()"
   ]
  },
  {
   "cell_type": "code",
   "execution_count": 36,
   "metadata": {},
   "outputs": [
    {
     "data": {
      "text/plain": [
       "902      1\n",
       "1182     1\n",
       "1200     1\n",
       "1201     1\n",
       "833      2\n",
       "866      2\n",
       "911      2\n",
       "1199     2\n",
       "830      3\n",
       "834      3\n",
       "836      3\n",
       "365      4\n",
       "1160     5\n",
       "1198     5\n",
       "364      6\n",
       "837      6\n",
       "803      7\n",
       "835      7\n",
       "865      7\n",
       "800      8\n",
       "862      8\n",
       "1156     8\n",
       "863     10\n",
       "864     10\n",
       "1129    10\n",
       "810     13\n",
       "1124    13\n",
       "1128    13\n",
       "1188    15\n",
       "359     16\n",
       "Name: bought_together_times, dtype: int64"
      ]
     },
     "execution_count": 36,
     "metadata": {},
     "output_type": "execute_result"
    }
   ],
   "source": [
    "recommendations_df['bought_together_times'].nsmallest(30)"
   ]
  },
  {
   "cell_type": "markdown",
   "metadata": {},
   "source": [
    "За минимальную границу возьмем 1-ый квартиль. То есть если курс куплен в паре 16 и менее раз, нужно предложить другой курс. В качестве предложения будем использовать случайно выбранный из наиболее продаваемых курсов. Чтобы определить наиболее продаваемые курсы, также ознакомимся с описательной статистикой по общим продажам курсов."
   ]
  },
  {
   "cell_type": "code",
   "execution_count": 14,
   "metadata": {},
   "outputs": [
    {
     "data": {
      "text/plain": [
       "count     126.000000\n",
       "mean      270.428571\n",
       "std       404.128483\n",
       "min         2.000000\n",
       "25%        58.500000\n",
       "50%       124.000000\n",
       "75%       350.000000\n",
       "max      2935.000000\n",
       "Name: resource_id, dtype: float64"
      ]
     },
     "execution_count": 14,
     "metadata": {},
     "output_type": "execute_result"
    }
   ],
   "source": [
    "minimum_paired = 16\n",
    "courses_sold = df['resource_id'].value_counts()\n",
    "courses_sold.describe()"
   ]
  },
  {
   "cell_type": "markdown",
   "metadata": {},
   "source": [
    "Будем считать наиболее продаваемыми курсами, курсы из 4-го квартиля. То есть, курсы с общим количеством продаж более 350 раз. Таких курсов 32."
   ]
  },
  {
   "cell_type": "code",
   "execution_count": 15,
   "metadata": {},
   "outputs": [
    {
     "data": {
      "text/plain": [
       "32"
      ]
     },
     "execution_count": 15,
     "metadata": {},
     "output_type": "execute_result"
    }
   ],
   "source": [
    "top_courses = list(courses_sold[courses_sold.values > 350].index)\n",
    "len(top_courses)"
   ]
  },
  {
   "cell_type": "markdown",
   "metadata": {},
   "source": [
    "Курсы, которые покупались в паре 16 или менее раз, будем заменять случайно выбранными курсами из наиболее продаваемых курсов.\n",
    "При этом, если курс, который покупался в паре 16 или менее раз, сам находится в списке наиболее продаваемых, его заменять мы не будем.\n",
    "Так как, возможно эти курсы могут быть связаны, а продавались они в паре мало, потому что в принципе по курсу, к которому делаем рекомендации, мало продаж."
   ]
  },
  {
   "cell_type": "code",
   "execution_count": 17,
   "metadata": {},
   "outputs": [],
   "source": [
    "np.random.seed(1000)\n",
    "for i in range(recommendations_df.shape[0]): \n",
    "    if recommendations_df['bought_together_times'].iloc[i] <= minimum_paired:\n",
    "        two_courses = np.random.choice(top_courses, size=2, replace=False)\n",
    "        recommendations_df['most_recommended_course'].iloc[i] = two_courses[0]\n",
    "        recommendations_df['second_most_recommended_course'].iloc[i] = two_courses[1]\n",
    "    elif recommendations_df['bought_together_times_second'].iloc[i] <= minimum_paired:\n",
    "        if recommendations_df['most_recommended_course'].iloc[i] in top_courses:\n",
    "            selected_courses = top_courses.copy()\n",
    "            selected_courses.remove(recommendations_df['most_recommended_course'].iloc[i])\n",
    "            pos = np.random.randint(len(selected_courses))\n",
    "            recommendations_df['second_most_recommended_course'] = selected_courses[pos]\n",
    "        else:\n",
    "            pos = np.random.randint(len(top_courses))\n",
    "            recommendations_df['second_most_recommended_course'] = top_courses[pos]\n",
    "    else:\n",
    "        pass        \n",
    "        "
   ]
  },
  {
   "cell_type": "code",
   "execution_count": 22,
   "metadata": {},
   "outputs": [],
   "source": [
    "recommendations_df = recommendations_df[['most_recommended_course', 'second_most_recommended_course']]"
   ]
  },
  {
   "cell_type": "code",
   "execution_count": 23,
   "metadata": {},
   "outputs": [
    {
     "data": {
      "text/html": [
       "<div>\n",
       "<style scoped>\n",
       "    .dataframe tbody tr th:only-of-type {\n",
       "        vertical-align: middle;\n",
       "    }\n",
       "\n",
       "    .dataframe tbody tr th {\n",
       "        vertical-align: top;\n",
       "    }\n",
       "\n",
       "    .dataframe thead th {\n",
       "        text-align: right;\n",
       "    }\n",
       "</style>\n",
       "<table border=\"1\" class=\"dataframe\">\n",
       "  <thead>\n",
       "    <tr style=\"text-align: right;\">\n",
       "      <th></th>\n",
       "      <th>most_recommended_course</th>\n",
       "      <th>second_most_recommended_course</th>\n",
       "    </tr>\n",
       "  </thead>\n",
       "  <tbody>\n",
       "    <tr>\n",
       "      <th>356</th>\n",
       "      <td>571</td>\n",
       "      <td>357</td>\n",
       "    </tr>\n",
       "    <tr>\n",
       "      <th>357</th>\n",
       "      <td>571</td>\n",
       "      <td>356</td>\n",
       "    </tr>\n",
       "    <tr>\n",
       "      <th>358</th>\n",
       "      <td>570</td>\n",
       "      <td>752</td>\n",
       "    </tr>\n",
       "    <tr>\n",
       "      <th>359</th>\n",
       "      <td>570</td>\n",
       "      <td>358</td>\n",
       "    </tr>\n",
       "    <tr>\n",
       "      <th>360</th>\n",
       "      <td>745</td>\n",
       "      <td>516</td>\n",
       "    </tr>\n",
       "    <tr>\n",
       "      <th>...</th>\n",
       "      <td>...</td>\n",
       "      <td>...</td>\n",
       "    </tr>\n",
       "    <tr>\n",
       "      <th>1188</th>\n",
       "      <td>1141</td>\n",
       "      <td>513</td>\n",
       "    </tr>\n",
       "    <tr>\n",
       "      <th>1198</th>\n",
       "      <td>571</td>\n",
       "      <td>912</td>\n",
       "    </tr>\n",
       "    <tr>\n",
       "      <th>1199</th>\n",
       "      <td>523</td>\n",
       "      <td>1115</td>\n",
       "    </tr>\n",
       "    <tr>\n",
       "      <th>1200</th>\n",
       "      <td>794</td>\n",
       "      <td>1104</td>\n",
       "    </tr>\n",
       "    <tr>\n",
       "      <th>1201</th>\n",
       "      <td>1125</td>\n",
       "      <td>571</td>\n",
       "    </tr>\n",
       "  </tbody>\n",
       "</table>\n",
       "<p>126 rows × 2 columns</p>\n",
       "</div>"
      ],
      "text/plain": [
       "      most_recommended_course  second_most_recommended_course\n",
       "356                       571                             357\n",
       "357                       571                             356\n",
       "358                       570                             752\n",
       "359                       570                             358\n",
       "360                       745                             516\n",
       "...                       ...                             ...\n",
       "1188                     1141                             513\n",
       "1198                      571                             912\n",
       "1199                      523                            1115\n",
       "1200                      794                            1104\n",
       "1201                     1125                             571\n",
       "\n",
       "[126 rows x 2 columns]"
      ]
     },
     "execution_count": 23,
     "metadata": {},
     "output_type": "execute_result"
    }
   ],
   "source": [
    "recommendations_df"
   ]
  }
 ],
 "metadata": {
  "kernelspec": {
   "display_name": "Python 3.10.6 64-bit (system)",
   "language": "python",
   "name": "python3"
  },
  "language_info": {
   "codemirror_mode": {
    "name": "ipython",
    "version": 3
   },
   "file_extension": ".py",
   "mimetype": "text/x-python",
   "name": "python",
   "nbconvert_exporter": "python",
   "pygments_lexer": "ipython3",
   "version": "3.10.6"
  },
  "orig_nbformat": 4,
  "vscode": {
   "interpreter": {
    "hash": "98ba9b2d399773044c720aadcb28748651b9f342a3e1dc0dbde32ff55f971c12"
   }
  }
 },
 "nbformat": 4,
 "nbformat_minor": 2
}
